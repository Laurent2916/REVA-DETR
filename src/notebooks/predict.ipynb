{
 "cells": [
  {
   "cell_type": "code",
   "execution_count": null,
   "metadata": {},
   "outputs": [],
   "source": [
    "import albumentations as A\n",
    "import numpy as np\n",
    "import onnx\n",
    "import onnxruntime\n",
    "from albumentations.pytorch import ToTensorV2\n",
    "from PIL import Image\n",
    "\n",
    "%config InlineBackend.figure_formats = ['svg']\n",
    "import matplotlib.pyplot as plt\n",
    "%matplotlib inline\n",
    "\n",
    "import torch\n",
    "from utils.dice import dice_score\n"
   ]
  },
  {
   "cell_type": "code",
   "execution_count": null,
   "metadata": {},
   "outputs": [],
   "source": [
    "def sigmoid(x):\n",
    "    return 1 / (1 + np.exp(-x))\n"
   ]
  },
  {
   "cell_type": "code",
   "execution_count": null,
   "metadata": {},
   "outputs": [],
   "source": [
    "def to_numpy(tensor):\n",
    "    return tensor.detach().cpu().numpy() if tensor.requires_grad else tensor.cpu().numpy()\n"
   ]
  },
  {
   "cell_type": "code",
   "execution_count": null,
   "metadata": {},
   "outputs": [],
   "source": [
    "model_path = \"../../checkpoints/best.onnx\"\n",
    "# image_path = \"../../images/SM.png\"\n",
    "image_path = \"/home/lilian/data_disk/lfainsin/test/2022_SM/DOS_DETAIL/DSC_0055.jpg\"\n",
    "gt_path = \"/home/lilian/data_disk/lfainsin/test/2022_SM/DOS_DETAIL/MASK.PNG\"\n"
   ]
  },
  {
   "cell_type": "code",
   "execution_count": null,
   "metadata": {},
   "outputs": [],
   "source": [
    "onnx_model = onnx.load(model_path)\n",
    "onnx.checker.check_model(onnx_model)\n"
   ]
  },
  {
   "cell_type": "code",
   "execution_count": null,
   "metadata": {},
   "outputs": [],
   "source": [
    "session = onnxruntime.InferenceSession(model_path)\n"
   ]
  },
  {
   "cell_type": "code",
   "execution_count": null,
   "metadata": {},
   "outputs": [],
   "source": [
    "image = Image.open(image_path).convert(\"RGB\")\n",
    "\n",
    "plt.figure(figsize=(25, 10))\n",
    "plt.imshow(image)\n",
    "\n",
    "print(image.size)\n"
   ]
  },
  {
   "cell_type": "code",
   "execution_count": null,
   "metadata": {},
   "outputs": [],
   "source": [
    "transform = A.Compose(\n",
    "    [\n",
    "        A.LongestMaxSize(1024),\n",
    "        A.ToFloat(max_value=255), # [0, 255] -> [0.0, 1.0]\n",
    "        ToTensorV2(), # HWC -> CHW\n",
    "    ],\n",
    ")\n",
    "aug = transform(image=np.asarray(image))\n",
    "img = aug[\"image\"]\n",
    "\n",
    "img = img.unsqueeze(0) # -> 1CHW"
   ]
  },
  {
   "cell_type": "code",
   "execution_count": null,
   "metadata": {},
   "outputs": [],
   "source": [
    "inputs = {\n",
    "    session.get_inputs()[0].name: to_numpy(img),\n",
    "}\n",
    "\n",
    "outs = session.run(None, inputs)\n",
    "\n",
    "img_out = outs[0][0][0] # extract HW\n",
    "img_out = img_out * 255 # [0.0, 255.0]\n",
    "img_out = img_out.clip(0, 255) \n",
    "img_out = np.uint8(img_out) # [0, 255]\n",
    "img_out = Image.fromarray(img_out, \"L\") # PIL img\n",
    "\n",
    "# plt.figure(figsize=(25, 10))\n",
    "# plt.imshow(img_out, cmap=plt.cm.gray)\n"
   ]
  },
  {
   "cell_type": "code",
   "execution_count": null,
   "metadata": {},
   "outputs": [],
   "source": [
    "inputs = {\n",
    "    session.get_inputs()[0].name: to_numpy(img),\n",
    "}\n",
    "\n",
    "outs = session.run(None, inputs)\n",
    "\n",
    "img_out = outs[0][0][0] # extract HW\n",
    "img_out = sigmoid(img_out) # -> [0.0, 1.0]\n",
    "img_out = img_out * 255 # [0.0, 255.0]\n",
    "img_out = np.uint8(img_out) # [0, 255]\n",
    "img_out = Image.fromarray(img_out, \"L\") # PIL img\n",
    "\n",
    "plt.figure(figsize=(25, 10))\n",
    "plt.imshow(img_out, cmap=plt.cm.gray)\n"
   ]
  },
  {
   "cell_type": "code",
   "execution_count": null,
   "metadata": {},
   "outputs": [],
   "source": [
    "from skimage import measure, draw\n",
    "\n",
    "# Find contours at a constant value of 0.8\n",
    "contours = measure.find_contours(np.asarray(img_out))\n",
    "\n",
    "# Display the image and plot all contours found\n",
    "plt.figure(figsize=(19, 18))\n",
    "plt.imshow(img_out, cmap=plt.cm.gray)\n",
    "\n",
    "lenc = [len(c) for c in contours]\n",
    "indexs = np.argsort(lenc)\n",
    "l = indexs[-1]\n",
    "\n",
    "# plt.plot(contours[l][:, 1], contours[l][:, 0], linewidth=2, c=\"red\")\n",
    "\n",
    "# on estime l'ellipse\n",
    "ellipse = measure.EllipseModel()\n",
    "ellipse.estimate(contours[l])\n",
    "\n",
    "# on récupère les coords des points de l'ellipse\n",
    "cx, cy, a, b, theta = ellipse.params\n",
    "ex, ey = draw.ellipse_perimeter(int(cx), int(cy), int(a), int(b), orientation=theta, shape=img_out.size[::-1])\n",
    "\n",
    "plt.scatter(ey, ex, c=\"green\", s=0.5)\n",
    "plt.scatter(cy, cx, c=\"green\", s=0.5)\n",
    "\n",
    "# # on estime le cercle\n",
    "circle = measure.CircleModel()\n",
    "circle.estimate(contours[l])\n",
    "\n",
    "# on récupère les coords des points du cercle\n",
    "cx, cy, r = circle.params\n",
    "ex, ey = draw.circle_perimeter(int(cx), int(cy), int(r), shape=img_out.size[::-1])\n",
    "\n",
    "plt.scatter(ey, ex, c=\"blue\", s=0.5)\n",
    "plt.scatter(cy, cx, c=\"blue\", s=0.5)\n"
   ]
  },
  {
   "cell_type": "markdown",
   "metadata": {},
   "source": [
    "# mutilresolution zoom"
   ]
  },
  {
   "cell_type": "code",
   "execution_count": null,
   "metadata": {},
   "outputs": [],
   "source": [
    "factor = image.size[0] / img_out.size[0]\n",
    "taille = min(a, b) * factor\n",
    "percentage = 0.1\n",
    "size = taille / percentage\n",
    "\n",
    "img = image.crop((cy*factor - size, cx*factor - size/1.5, cy*factor + size, cx*factor + size/1.5))\n",
    "\n",
    "transform = A.Compose(\n",
    "    [\n",
    "        A.LongestMaxSize(1024),\n",
    "        A.ToFloat(max_value=255), # [0, 255] -> [0.0, 1.0]\n",
    "        ToTensorV2(), # HWC -> CHW\n",
    "    ],\n",
    ")\n",
    "aug = transform(image=np.asarray(img))\n",
    "img = aug[\"image\"]\n",
    "\n",
    "img = img.unsqueeze(0) # -> 1CHW"
   ]
  },
  {
   "cell_type": "code",
   "execution_count": null,
   "metadata": {},
   "outputs": [],
   "source": [
    "inputs = {\n",
    "    session.get_inputs()[0].name: to_numpy(img),\n",
    "}\n",
    "\n",
    "outs = session.run(None, inputs)\n",
    "\n",
    "img_out = outs[0][0][0] # extract HW\n",
    "img_out = sigmoid(img_out) # -> [0.0, 1.0]\n",
    "img_out = img_out * 255 # [0.0, 255.0]\n",
    "img_out = np.uint8(img_out) # [0, 255]\n",
    "img_out = Image.fromarray(img_out, \"L\") # PIL img\n",
    "\n",
    "plt.figure(figsize=(25, 10))\n",
    "plt.imshow(img_out, cmap=plt.cm.gray)\n"
   ]
  },
  {
   "cell_type": "code",
   "execution_count": 59,
   "metadata": {},
   "outputs": [
    {
     "name": "stdout",
     "output_type": "stream",
     "text": [
      "0.356565656565656564\r"
     ]
    }
   ],
   "source": [
    "image = Image.open(image_path).convert(\"RGB\")\n",
    "ground_truth = Image.open(gt_path).convert(\"L\")\n",
    "\n",
    "Image.MAX_IMAGE_PIXELS = 5000000000                                                                                              \n",
    "\n",
    "dices = []\n",
    "percentages = np.linspace(0.01, 0.35, 100)\n",
    "\n",
    "for p in percentages:\n",
    "    size = taille / p \n",
    "    print(p, end=\"\\r\")\n",
    "\n",
    "    img = image.crop((cy * factor - size, cx * factor - size, cy * factor + size, cx * factor + size))\n",
    "    gt = ground_truth.crop((cy * factor - size, cx * factor - size, cy * factor + size, cx * factor + size))\n",
    "\n",
    "    transform = A.Compose(\n",
    "        [\n",
    "            A.LongestMaxSize(1024),\n",
    "            A.ToFloat(max_value=255),  # [0, 255] -> [0.0, 1.0]\n",
    "            ToTensorV2(),  # HWC -> CHW\n",
    "        ],\n",
    "    )\n",
    "    aug = transform(image=np.asarray(img))\n",
    "    img = aug[\"image\"]\n",
    "    img = img.unsqueeze(0)  # -> 1CHW\n",
    "\n",
    "    inputs = {\n",
    "        session.get_inputs()[0].name: to_numpy(img),\n",
    "    }\n",
    "\n",
    "    outs = session.run(None, inputs)\n",
    "\n",
    "    img_out2 = outs[0][0][0] # extract HW\n",
    "    img_out2 = sigmoid(img_out2) # -> [0.0, 1.0]\n",
    "    img_out2 = img_out2 > 0.5 # {False, True}\n",
    "    img_out2 = np.uint8(img_out2) # [0, 1]\n",
    "    img_out2 = torch.tensor(img_out2)\n",
    "\n",
    "    aug = transform(image=np.array(gt))\n",
    "    gt = aug[\"image\"]\n",
    "    gt = gt > 0.1 # {False, True}\n",
    "    gt = np.uint8(gt) # [0, 1]\n",
    "    gt = torch.tensor(gt)\n",
    "\n",
    "    dice = dice_score(gt, img_out2, logits=False)\n",
    "    dices.append(dice)\n",
    "\n",
    "    # plt.figure(figsize=(25, 10))\n",
    "    # plt.imshow(Image.fromarray(gt.squeeze(0).numpy()), cmap=plt.cm.gray)"
   ]
  },
  {
   "cell_type": "code",
   "execution_count": 60,
   "metadata": {},
   "outputs": [
    {
     "data": {
      "text/plain": [
       "[<matplotlib.lines.Line2D at 0x7fb1cc0a54f0>]"
      ]
     },
     "execution_count": 60,
     "metadata": {},
     "output_type": "execute_result"
    },
    {
     "data": {
      "image/svg+xml": "<?xml version=\"1.0\" encoding=\"utf-8\" standalone=\"no\"?>\n<!DOCTYPE svg PUBLIC \"-//W3C//DTD SVG 1.1//EN\"\n  \"http://www.w3.org/Graphics/SVG/1.1/DTD/svg11.dtd\">\n<svg xmlns:xlink=\"http://www.w3.org/1999/xlink\" width=\"874.303125pt\" height=\"574.678125pt\" viewBox=\"0 0 874.303125 574.678125\" xmlns=\"http://www.w3.org/2000/svg\" version=\"1.1\">\n <metadata>\n  <rdf:RDF xmlns:dc=\"http://purl.org/dc/elements/1.1/\" xmlns:cc=\"http://creativecommons.org/ns#\" xmlns:rdf=\"http://www.w3.org/1999/02/22-rdf-syntax-ns#\">\n   <cc:Work>\n    <dc:type rdf:resource=\"http://purl.org/dc/dcmitype/StillImage\"/>\n    <dc:date>2022-07-12T14:21:04.233003</dc:date>\n    <dc:format>image/svg+xml</dc:format>\n    <dc:creator>\n     <cc:Agent>\n      <dc:title>Matplotlib v3.5.2, https://matplotlib.org/</dc:title>\n     </cc:Agent>\n    </dc:creator>\n   </cc:Work>\n  </rdf:RDF>\n </metadata>\n <defs>\n  <style type=\"text/css\">*{stroke-linejoin: round; stroke-linecap: butt}</style>\n </defs>\n <g id=\"figure_1\">\n  <g id=\"patch_1\">\n   <path d=\"M 0 574.678125 \nL 874.303125 574.678125 \nL 874.303125 0 \nL 0 0 \nL 0 574.678125 \nz\n\" style=\"fill: none\"/>\n  </g>\n  <g id=\"axes_1\">\n   <g id=\"patch_2\">\n    <path d=\"M 30.103125 550.8 \nL 867.103125 550.8 \nL 867.103125 7.2 \nL 30.103125 7.2 \nz\n\" style=\"fill: #ffffff\"/>\n   </g>\n   <g id=\"matplotlib.axis_1\">\n    <g id=\"xtick_1\">\n     <g id=\"line2d_1\">\n      <defs>\n       <path id=\"m1d81d38313\" d=\"M 0 0 \nL 0 3.5 \n\" style=\"stroke: #000000; stroke-width: 0.8\"/>\n      </defs>\n      <g>\n       <use xlink:href=\"#m1d81d38313\" x=\"45.7689\" y=\"550.8\" style=\"stroke: #000000; stroke-width: 0.8\"/>\n      </g>\n     </g>\n     <g id=\"text_1\">\n      <!-- 0.00 -->\n      <g transform=\"translate(34.636088 565.398438)scale(0.1 -0.1)\">\n       <defs>\n        <path id=\"DejaVuSans-30\" d=\"M 2034 4250 \nQ 1547 4250 1301 3770 \nQ 1056 3291 1056 2328 \nQ 1056 1369 1301 889 \nQ 1547 409 2034 409 \nQ 2525 409 2770 889 \nQ 3016 1369 3016 2328 \nQ 3016 3291 2770 3770 \nQ 2525 4250 2034 4250 \nz\nM 2034 4750 \nQ 2819 4750 3233 4129 \nQ 3647 3509 3647 2328 \nQ 3647 1150 3233 529 \nQ 2819 -91 2034 -91 \nQ 1250 -91 836 529 \nQ 422 1150 422 2328 \nQ 422 3509 836 4129 \nQ 1250 4750 2034 4750 \nz\n\" transform=\"scale(0.015625)\"/>\n        <path id=\"DejaVuSans-2e\" d=\"M 684 794 \nL 1344 794 \nL 1344 0 \nL 684 0 \nL 684 794 \nz\n\" transform=\"scale(0.015625)\"/>\n       </defs>\n       <use xlink:href=\"#DejaVuSans-30\"/>\n       <use xlink:href=\"#DejaVuSans-2e\" x=\"63.623047\"/>\n       <use xlink:href=\"#DejaVuSans-30\" x=\"95.410156\"/>\n       <use xlink:href=\"#DejaVuSans-30\" x=\"159.033203\"/>\n      </g>\n     </g>\n    </g>\n    <g id=\"xtick_2\">\n     <g id=\"line2d_2\">\n      <g>\n       <use xlink:href=\"#m1d81d38313\" x=\"157.667296\" y=\"550.8\" style=\"stroke: #000000; stroke-width: 0.8\"/>\n      </g>\n     </g>\n     <g id=\"text_2\">\n      <!-- 0.05 -->\n      <g transform=\"translate(146.534484 565.398438)scale(0.1 -0.1)\">\n       <defs>\n        <path id=\"DejaVuSans-35\" d=\"M 691 4666 \nL 3169 4666 \nL 3169 4134 \nL 1269 4134 \nL 1269 2991 \nQ 1406 3038 1543 3061 \nQ 1681 3084 1819 3084 \nQ 2600 3084 3056 2656 \nQ 3513 2228 3513 1497 \nQ 3513 744 3044 326 \nQ 2575 -91 1722 -91 \nQ 1428 -91 1123 -41 \nQ 819 9 494 109 \nL 494 744 \nQ 775 591 1075 516 \nQ 1375 441 1709 441 \nQ 2250 441 2565 725 \nQ 2881 1009 2881 1497 \nQ 2881 1984 2565 2268 \nQ 2250 2553 1709 2553 \nQ 1456 2553 1204 2497 \nQ 953 2441 691 2322 \nL 691 4666 \nz\n\" transform=\"scale(0.015625)\"/>\n       </defs>\n       <use xlink:href=\"#DejaVuSans-30\"/>\n       <use xlink:href=\"#DejaVuSans-2e\" x=\"63.623047\"/>\n       <use xlink:href=\"#DejaVuSans-30\" x=\"95.410156\"/>\n       <use xlink:href=\"#DejaVuSans-35\" x=\"159.033203\"/>\n      </g>\n     </g>\n    </g>\n    <g id=\"xtick_3\">\n     <g id=\"line2d_3\">\n      <g>\n       <use xlink:href=\"#m1d81d38313\" x=\"269.565692\" y=\"550.8\" style=\"stroke: #000000; stroke-width: 0.8\"/>\n      </g>\n     </g>\n     <g id=\"text_3\">\n      <!-- 0.10 -->\n      <g transform=\"translate(258.432879 565.398438)scale(0.1 -0.1)\">\n       <defs>\n        <path id=\"DejaVuSans-31\" d=\"M 794 531 \nL 1825 531 \nL 1825 4091 \nL 703 3866 \nL 703 4441 \nL 1819 4666 \nL 2450 4666 \nL 2450 531 \nL 3481 531 \nL 3481 0 \nL 794 0 \nL 794 531 \nz\n\" transform=\"scale(0.015625)\"/>\n       </defs>\n       <use xlink:href=\"#DejaVuSans-30\"/>\n       <use xlink:href=\"#DejaVuSans-2e\" x=\"63.623047\"/>\n       <use xlink:href=\"#DejaVuSans-31\" x=\"95.410156\"/>\n       <use xlink:href=\"#DejaVuSans-30\" x=\"159.033203\"/>\n      </g>\n     </g>\n    </g>\n    <g id=\"xtick_4\">\n     <g id=\"line2d_4\">\n      <g>\n       <use xlink:href=\"#m1d81d38313\" x=\"381.464088\" y=\"550.8\" style=\"stroke: #000000; stroke-width: 0.8\"/>\n      </g>\n     </g>\n     <g id=\"text_4\">\n      <!-- 0.15 -->\n      <g transform=\"translate(370.331275 565.398438)scale(0.1 -0.1)\">\n       <use xlink:href=\"#DejaVuSans-30\"/>\n       <use xlink:href=\"#DejaVuSans-2e\" x=\"63.623047\"/>\n       <use xlink:href=\"#DejaVuSans-31\" x=\"95.410156\"/>\n       <use xlink:href=\"#DejaVuSans-35\" x=\"159.033203\"/>\n      </g>\n     </g>\n    </g>\n    <g id=\"xtick_5\">\n     <g id=\"line2d_5\">\n      <g>\n       <use xlink:href=\"#m1d81d38313\" x=\"493.362483\" y=\"550.8\" style=\"stroke: #000000; stroke-width: 0.8\"/>\n      </g>\n     </g>\n     <g id=\"text_5\">\n      <!-- 0.20 -->\n      <g transform=\"translate(482.229671 565.398438)scale(0.1 -0.1)\">\n       <defs>\n        <path id=\"DejaVuSans-32\" d=\"M 1228 531 \nL 3431 531 \nL 3431 0 \nL 469 0 \nL 469 531 \nQ 828 903 1448 1529 \nQ 2069 2156 2228 2338 \nQ 2531 2678 2651 2914 \nQ 2772 3150 2772 3378 \nQ 2772 3750 2511 3984 \nQ 2250 4219 1831 4219 \nQ 1534 4219 1204 4116 \nQ 875 4013 500 3803 \nL 500 4441 \nQ 881 4594 1212 4672 \nQ 1544 4750 1819 4750 \nQ 2544 4750 2975 4387 \nQ 3406 4025 3406 3419 \nQ 3406 3131 3298 2873 \nQ 3191 2616 2906 2266 \nQ 2828 2175 2409 1742 \nQ 1991 1309 1228 531 \nz\n\" transform=\"scale(0.015625)\"/>\n       </defs>\n       <use xlink:href=\"#DejaVuSans-30\"/>\n       <use xlink:href=\"#DejaVuSans-2e\" x=\"63.623047\"/>\n       <use xlink:href=\"#DejaVuSans-32\" x=\"95.410156\"/>\n       <use xlink:href=\"#DejaVuSans-30\" x=\"159.033203\"/>\n      </g>\n     </g>\n    </g>\n    <g id=\"xtick_6\">\n     <g id=\"line2d_6\">\n      <g>\n       <use xlink:href=\"#m1d81d38313\" x=\"605.260879\" y=\"550.8\" style=\"stroke: #000000; stroke-width: 0.8\"/>\n      </g>\n     </g>\n     <g id=\"text_6\">\n      <!-- 0.25 -->\n      <g transform=\"translate(594.128067 565.398438)scale(0.1 -0.1)\">\n       <use xlink:href=\"#DejaVuSans-30\"/>\n       <use xlink:href=\"#DejaVuSans-2e\" x=\"63.623047\"/>\n       <use xlink:href=\"#DejaVuSans-32\" x=\"95.410156\"/>\n       <use xlink:href=\"#DejaVuSans-35\" x=\"159.033203\"/>\n      </g>\n     </g>\n    </g>\n    <g id=\"xtick_7\">\n     <g id=\"line2d_7\">\n      <g>\n       <use xlink:href=\"#m1d81d38313\" x=\"717.159275\" y=\"550.8\" style=\"stroke: #000000; stroke-width: 0.8\"/>\n      </g>\n     </g>\n     <g id=\"text_7\">\n      <!-- 0.30 -->\n      <g transform=\"translate(706.026462 565.398438)scale(0.1 -0.1)\">\n       <defs>\n        <path id=\"DejaVuSans-33\" d=\"M 2597 2516 \nQ 3050 2419 3304 2112 \nQ 3559 1806 3559 1356 \nQ 3559 666 3084 287 \nQ 2609 -91 1734 -91 \nQ 1441 -91 1130 -33 \nQ 819 25 488 141 \nL 488 750 \nQ 750 597 1062 519 \nQ 1375 441 1716 441 \nQ 2309 441 2620 675 \nQ 2931 909 2931 1356 \nQ 2931 1769 2642 2001 \nQ 2353 2234 1838 2234 \nL 1294 2234 \nL 1294 2753 \nL 1863 2753 \nQ 2328 2753 2575 2939 \nQ 2822 3125 2822 3475 \nQ 2822 3834 2567 4026 \nQ 2313 4219 1838 4219 \nQ 1578 4219 1281 4162 \nQ 984 4106 628 3988 \nL 628 4550 \nQ 988 4650 1302 4700 \nQ 1616 4750 1894 4750 \nQ 2613 4750 3031 4423 \nQ 3450 4097 3450 3541 \nQ 3450 3153 3228 2886 \nQ 3006 2619 2597 2516 \nz\n\" transform=\"scale(0.015625)\"/>\n       </defs>\n       <use xlink:href=\"#DejaVuSans-30\"/>\n       <use xlink:href=\"#DejaVuSans-2e\" x=\"63.623047\"/>\n       <use xlink:href=\"#DejaVuSans-33\" x=\"95.410156\"/>\n       <use xlink:href=\"#DejaVuSans-30\" x=\"159.033203\"/>\n      </g>\n     </g>\n    </g>\n    <g id=\"xtick_8\">\n     <g id=\"line2d_8\">\n      <g>\n       <use xlink:href=\"#m1d81d38313\" x=\"829.05767\" y=\"550.8\" style=\"stroke: #000000; stroke-width: 0.8\"/>\n      </g>\n     </g>\n     <g id=\"text_8\">\n      <!-- 0.35 -->\n      <g transform=\"translate(817.924858 565.398438)scale(0.1 -0.1)\">\n       <use xlink:href=\"#DejaVuSans-30\"/>\n       <use xlink:href=\"#DejaVuSans-2e\" x=\"63.623047\"/>\n       <use xlink:href=\"#DejaVuSans-33\" x=\"95.410156\"/>\n       <use xlink:href=\"#DejaVuSans-35\" x=\"159.033203\"/>\n      </g>\n     </g>\n    </g>\n   </g>\n   <g id=\"matplotlib.axis_2\">\n    <g id=\"ytick_1\">\n     <g id=\"line2d_9\">\n      <defs>\n       <path id=\"mb9743c16bd\" d=\"M 0 0 \nL -3.5 0 \n\" style=\"stroke: #000000; stroke-width: 0.8\"/>\n      </defs>\n      <g>\n       <use xlink:href=\"#mb9743c16bd\" x=\"30.103125\" y=\"526.24283\" style=\"stroke: #000000; stroke-width: 0.8\"/>\n      </g>\n     </g>\n     <g id=\"text_9\">\n      <!-- 0.0 -->\n      <g transform=\"translate(7.2 530.042049)scale(0.1 -0.1)\">\n       <use xlink:href=\"#DejaVuSans-30\"/>\n       <use xlink:href=\"#DejaVuSans-2e\" x=\"63.623047\"/>\n       <use xlink:href=\"#DejaVuSans-30\" x=\"95.410156\"/>\n      </g>\n     </g>\n    </g>\n    <g id=\"ytick_2\">\n     <g id=\"line2d_10\">\n      <g>\n       <use xlink:href=\"#mb9743c16bd\" x=\"30.103125\" y=\"424.963378\" style=\"stroke: #000000; stroke-width: 0.8\"/>\n      </g>\n     </g>\n     <g id=\"text_10\">\n      <!-- 0.2 -->\n      <g transform=\"translate(7.2 428.762597)scale(0.1 -0.1)\">\n       <use xlink:href=\"#DejaVuSans-30\"/>\n       <use xlink:href=\"#DejaVuSans-2e\" x=\"63.623047\"/>\n       <use xlink:href=\"#DejaVuSans-32\" x=\"95.410156\"/>\n      </g>\n     </g>\n    </g>\n    <g id=\"ytick_3\">\n     <g id=\"line2d_11\">\n      <g>\n       <use xlink:href=\"#mb9743c16bd\" x=\"30.103125\" y=\"323.683926\" style=\"stroke: #000000; stroke-width: 0.8\"/>\n      </g>\n     </g>\n     <g id=\"text_11\">\n      <!-- 0.4 -->\n      <g transform=\"translate(7.2 327.483145)scale(0.1 -0.1)\">\n       <defs>\n        <path id=\"DejaVuSans-34\" d=\"M 2419 4116 \nL 825 1625 \nL 2419 1625 \nL 2419 4116 \nz\nM 2253 4666 \nL 3047 4666 \nL 3047 1625 \nL 3713 1625 \nL 3713 1100 \nL 3047 1100 \nL 3047 0 \nL 2419 0 \nL 2419 1100 \nL 313 1100 \nL 313 1709 \nL 2253 4666 \nz\n\" transform=\"scale(0.015625)\"/>\n       </defs>\n       <use xlink:href=\"#DejaVuSans-30\"/>\n       <use xlink:href=\"#DejaVuSans-2e\" x=\"63.623047\"/>\n       <use xlink:href=\"#DejaVuSans-34\" x=\"95.410156\"/>\n      </g>\n     </g>\n    </g>\n    <g id=\"ytick_4\">\n     <g id=\"line2d_12\">\n      <g>\n       <use xlink:href=\"#mb9743c16bd\" x=\"30.103125\" y=\"222.404474\" style=\"stroke: #000000; stroke-width: 0.8\"/>\n      </g>\n     </g>\n     <g id=\"text_12\">\n      <!-- 0.6 -->\n      <g transform=\"translate(7.2 226.203693)scale(0.1 -0.1)\">\n       <defs>\n        <path id=\"DejaVuSans-36\" d=\"M 2113 2584 \nQ 1688 2584 1439 2293 \nQ 1191 2003 1191 1497 \nQ 1191 994 1439 701 \nQ 1688 409 2113 409 \nQ 2538 409 2786 701 \nQ 3034 994 3034 1497 \nQ 3034 2003 2786 2293 \nQ 2538 2584 2113 2584 \nz\nM 3366 4563 \nL 3366 3988 \nQ 3128 4100 2886 4159 \nQ 2644 4219 2406 4219 \nQ 1781 4219 1451 3797 \nQ 1122 3375 1075 2522 \nQ 1259 2794 1537 2939 \nQ 1816 3084 2150 3084 \nQ 2853 3084 3261 2657 \nQ 3669 2231 3669 1497 \nQ 3669 778 3244 343 \nQ 2819 -91 2113 -91 \nQ 1303 -91 875 529 \nQ 447 1150 447 2328 \nQ 447 3434 972 4092 \nQ 1497 4750 2381 4750 \nQ 2619 4750 2861 4703 \nQ 3103 4656 3366 4563 \nz\n\" transform=\"scale(0.015625)\"/>\n       </defs>\n       <use xlink:href=\"#DejaVuSans-30\"/>\n       <use xlink:href=\"#DejaVuSans-2e\" x=\"63.623047\"/>\n       <use xlink:href=\"#DejaVuSans-36\" x=\"95.410156\"/>\n      </g>\n     </g>\n    </g>\n    <g id=\"ytick_5\">\n     <g id=\"line2d_13\">\n      <g>\n       <use xlink:href=\"#mb9743c16bd\" x=\"30.103125\" y=\"121.125022\" style=\"stroke: #000000; stroke-width: 0.8\"/>\n      </g>\n     </g>\n     <g id=\"text_13\">\n      <!-- 0.8 -->\n      <g transform=\"translate(7.2 124.924241)scale(0.1 -0.1)\">\n       <defs>\n        <path id=\"DejaVuSans-38\" d=\"M 2034 2216 \nQ 1584 2216 1326 1975 \nQ 1069 1734 1069 1313 \nQ 1069 891 1326 650 \nQ 1584 409 2034 409 \nQ 2484 409 2743 651 \nQ 3003 894 3003 1313 \nQ 3003 1734 2745 1975 \nQ 2488 2216 2034 2216 \nz\nM 1403 2484 \nQ 997 2584 770 2862 \nQ 544 3141 544 3541 \nQ 544 4100 942 4425 \nQ 1341 4750 2034 4750 \nQ 2731 4750 3128 4425 \nQ 3525 4100 3525 3541 \nQ 3525 3141 3298 2862 \nQ 3072 2584 2669 2484 \nQ 3125 2378 3379 2068 \nQ 3634 1759 3634 1313 \nQ 3634 634 3220 271 \nQ 2806 -91 2034 -91 \nQ 1263 -91 848 271 \nQ 434 634 434 1313 \nQ 434 1759 690 2068 \nQ 947 2378 1403 2484 \nz\nM 1172 3481 \nQ 1172 3119 1398 2916 \nQ 1625 2713 2034 2713 \nQ 2441 2713 2670 2916 \nQ 2900 3119 2900 3481 \nQ 2900 3844 2670 4047 \nQ 2441 4250 2034 4250 \nQ 1625 4250 1398 4047 \nQ 1172 3844 1172 3481 \nz\n\" transform=\"scale(0.015625)\"/>\n       </defs>\n       <use xlink:href=\"#DejaVuSans-30\"/>\n       <use xlink:href=\"#DejaVuSans-2e\" x=\"63.623047\"/>\n       <use xlink:href=\"#DejaVuSans-38\" x=\"95.410156\"/>\n      </g>\n     </g>\n    </g>\n    <g id=\"ytick_6\">\n     <g id=\"line2d_14\">\n      <g>\n       <use xlink:href=\"#mb9743c16bd\" x=\"30.103125\" y=\"19.84557\" style=\"stroke: #000000; stroke-width: 0.8\"/>\n      </g>\n     </g>\n     <g id=\"text_14\">\n      <!-- 1.0 -->\n      <g transform=\"translate(7.2 23.644789)scale(0.1 -0.1)\">\n       <use xlink:href=\"#DejaVuSans-31\"/>\n       <use xlink:href=\"#DejaVuSans-2e\" x=\"63.623047\"/>\n       <use xlink:href=\"#DejaVuSans-30\" x=\"95.410156\"/>\n      </g>\n     </g>\n    </g>\n   </g>\n   <g id=\"line2d_15\">\n    <path d=\"M 68.14858 520.141658 \nL 75.83453 522.844191 \nL 83.52048 524.060083 \nL 91.206431 524.744613 \nL 98.892381 525.122482 \nL 106.578332 525.398835 \nL 114.264282 411.512201 \nL 121.950232 76.13843 \nL 129.636183 64.944046 \nL 137.322133 69.489037 \nL 145.008084 57.931574 \nL 152.694034 51.071469 \nL 160.379985 50.756111 \nL 168.065935 47.885497 \nL 175.751885 43.425624 \nL 183.437836 45.6702 \nL 191.123786 43.969775 \nL 198.809737 42.579939 \nL 206.495687 46.699975 \nL 214.181637 41.249324 \nL 221.867588 39.199252 \nL 229.553538 40.482298 \nL 237.239489 37.201187 \nL 244.925439 37.692003 \nL 252.611389 36.232352 \nL 260.29734 32.991868 \nL 267.98329 33.065335 \nL 275.669241 34.014339 \nL 283.355191 31.909091 \nL 291.041142 34.130787 \nL 298.727092 39.239819 \nL 306.413042 47.285235 \nL 314.098993 52.273321 \nL 321.784943 58.679314 \nL 329.470894 73.342339 \nL 337.156844 76.383521 \nL 344.842794 94.034998 \nL 352.528745 109.515124 \nL 360.214695 130.93219 \nL 367.900646 149.455732 \nL 375.586596 167.43618 \nL 383.272546 194.521037 \nL 390.958497 207.029646 \nL 398.644447 218.406067 \nL 406.330398 243.809514 \nL 414.016348 267.679754 \nL 421.702299 283.126196 \nL 429.388249 294.200222 \nL 437.074199 297.457685 \nL 444.76015 330.280495 \nL 452.4461 334.988446 \nL 460.132051 345.57712 \nL 467.818001 347.545696 \nL 475.503951 358.72781 \nL 483.189902 389.383647 \nL 490.875852 386.910068 \nL 498.561803 391.937755 \nL 506.247753 398.017402 \nL 513.933704 408.894903 \nL 521.619654 417.20804 \nL 529.305604 431.307711 \nL 536.991555 444.598921 \nL 544.677505 449.619673 \nL 552.363456 449.856683 \nL 560.049406 455.380166 \nL 567.735356 476.266117 \nL 575.421307 472.862882 \nL 583.107257 473.896125 \nL 590.793208 485.615983 \nL 598.479158 487.787385 \nL 606.165108 496.78923 \nL 613.851059 500.329613 \nL 621.537009 496.734633 \nL 629.22296 508.619047 \nL 636.90891 503.204138 \nL 644.594861 512.903912 \nL 652.280811 513.882672 \nL 659.966761 513.219925 \nL 667.652712 518.390404 \nL 675.338662 520.962792 \nL 683.024613 517.240043 \nL 690.710563 520.824779 \nL 698.396513 520.093762 \nL 706.082464 525.018576 \nL 713.768414 523.179338 \nL 721.454365 522.240255 \nL 729.140315 522.362978 \nL 736.826265 523.717239 \nL 744.512216 524.230402 \nL 752.198166 525.698485 \nL 759.884117 524.806632 \nL 767.570067 524.371426 \nL 775.256018 525.86144 \nL 782.941968 525.926981 \nL 790.627918 526.090909 \nL 798.313869 526.02793 \nL 805.999819 525.902564 \nL 813.68577 525.433998 \nL 821.37172 525.542598 \nL 829.05767 525.953018 \n\" clip-path=\"url(#p33381cbcaa)\" style=\"fill: none; stroke: #1f77b4; stroke-width: 1.5; stroke-linecap: square\"/>\n   </g>\n   <g id=\"patch_3\">\n    <path d=\"M 30.103125 550.8 \nL 30.103125 7.2 \n\" style=\"fill: none; stroke: #000000; stroke-width: 0.8; stroke-linejoin: miter; stroke-linecap: square\"/>\n   </g>\n   <g id=\"patch_4\">\n    <path d=\"M 867.103125 550.8 \nL 867.103125 7.2 \n\" style=\"fill: none; stroke: #000000; stroke-width: 0.8; stroke-linejoin: miter; stroke-linecap: square\"/>\n   </g>\n   <g id=\"patch_5\">\n    <path d=\"M 30.103125 550.8 \nL 867.103125 550.8 \n\" style=\"fill: none; stroke: #000000; stroke-width: 0.8; stroke-linejoin: miter; stroke-linecap: square\"/>\n   </g>\n   <g id=\"patch_6\">\n    <path d=\"M 30.103125 7.2 \nL 867.103125 7.2 \n\" style=\"fill: none; stroke: #000000; stroke-width: 0.8; stroke-linejoin: miter; stroke-linecap: square\"/>\n   </g>\n  </g>\n </g>\n <defs>\n  <clipPath id=\"p33381cbcaa\">\n   <rect x=\"30.103125\" y=\"7.2\" width=\"837\" height=\"543.6\"/>\n  </clipPath>\n </defs>\n</svg>\n",
      "text/plain": [
       "<Figure size 1080x720 with 1 Axes>"
      ]
     },
     "metadata": {
      "needs_background": "light"
     },
     "output_type": "display_data"
    }
   ],
   "source": [
    "plt.figure(figsize=(15, 10))\n",
    "plt.plot(percentages, dices)\n"
   ]
  },
  {
   "cell_type": "markdown",
   "metadata": {},
   "source": [
    "# Dice(resolution)"
   ]
  },
  {
   "cell_type": "code",
   "execution_count": null,
   "metadata": {},
   "outputs": [],
   "source": [
    "image_path = \"/home/lilian/data_disk/lfainsin/test/2022_SM/DOS_DETAIL/DSC_0050.jpg\"\n",
    "gt_path = \"/home/lilian/data_disk/lfainsin/test/2022_SM/DOS_DETAIL/MASK.PNG\"\n",
    "\n",
    "image = Image.open(image_path).convert(\"RGB\")\n",
    "image = torch.tensor(np.uint8(image))\n",
    "\n",
    "ground_truth = Image.open(gt_path).convert(\"L\")\n",
    "ground_truth = torch.tensor(np.uint8(ground_truth))\n",
    "\n",
    "dices = []\n",
    "rezs = range(128, 1920+4, 4)\n",
    "\n",
    "for rez in rezs:\n",
    "\n",
    "    print(rez, end=\"\\r\")\n",
    "\n",
    "    transform = A.Compose(\n",
    "        [\n",
    "            A.LongestMaxSize(rez),\n",
    "            A.ToFloat(max_value=255), # [0, 255] -> [0.0, 1.0]\n",
    "            ToTensorV2(), # HWC -> CHW\n",
    "        ],\n",
    "    )\n",
    "    aug = transform(image=np.array(image))\n",
    "    img = aug[\"image\"]\n",
    "    img = img.unsqueeze(0) # -> 1CHW\n",
    "\n",
    "    inputs = {\n",
    "        session.get_inputs()[0].name: to_numpy(img),\n",
    "    }\n",
    "    outs = session.run(None, inputs)\n",
    "\n",
    "    img_out = outs[0][0][0] # extract HW\n",
    "    img_out = sigmoid(img_out) # -> [0.0, 1.0]\n",
    "    img_out = img_out > 0.5 # {False, True}\n",
    "    img_out = np.uint8(img_out) # [0, 1]\n",
    "    img_out = torch.tensor(img_out)\n",
    "\n",
    "    aug = transform(image=np.array(ground_truth))\n",
    "    gt = aug[\"image\"]\n",
    "    gt = gt > 0.1 # {False, True}\n",
    "    gt = np.uint8(gt) # [0, 1]\n",
    "    gt = torch.tensor(gt)\n",
    "\n",
    "    dice = dice_score(gt, img_out, logits=False)\n",
    "    dices.append(dice)\n"
   ]
  },
  {
   "cell_type": "code",
   "execution_count": null,
   "metadata": {},
   "outputs": [],
   "source": [
    "plt.figure(figsize=(15, 10))\n",
    "plt.plot(rezs, dices)\n"
   ]
  }
 ],
 "metadata": {
  "kernelspec": {
   "display_name": "Python 3.8.0 ('.venv': poetry)",
   "language": "python",
   "name": "python3"
  },
  "language_info": {
   "codemirror_mode": {
    "name": "ipython",
    "version": 3
   },
   "file_extension": ".py",
   "mimetype": "text/x-python",
   "name": "python",
   "nbconvert_exporter": "python",
   "pygments_lexer": "ipython3",
   "version": "3.8.0"
  },
  "orig_nbformat": 4,
  "vscode": {
   "interpreter": {
    "hash": "dc80d2c03865715c8671359a6bf138f6c8ae4e26ae025f2543e0980b8db0ed7e"
   }
  }
 },
 "nbformat": 4,
 "nbformat_minor": 2
}
