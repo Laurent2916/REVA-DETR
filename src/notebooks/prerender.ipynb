{
 "cells": [
  {
   "cell_type": "code",
   "execution_count": 1,
   "metadata": {},
   "outputs": [
    {
     "name": "stderr",
     "output_type": "stream",
     "text": [
      "/home/laurent_fainsin/Documents/unet/.venv/lib/python3.8/site-packages/tqdm/auto.py:22: TqdmWarning: IProgress not found. Please update jupyter and ipywidgets. See https://ipywidgets.readthedocs.io/en/stable/user_install.html\n",
      "  from .autonotebook import tqdm as notebook_tqdm\n",
      "/home/laurent_fainsin/Documents/unet/.venv/lib/python3.8/site-packages/torchvision/io/image.py:13: UserWarning: Failed to load image Python extension: /home/laurent_fainsin/Documents/unet/.venv/lib/python3.8/site-packages/torchvision/image.so: undefined symbol: _ZNK3c1010TensorImpl36is_contiguous_nondefault_policy_implENS_12MemoryFormatE\n",
      "  warn(f\"Failed to load image Python extension: {e}\")\n"
     ]
    }
   ],
   "source": [
    "from PIL import Image\n",
    "\n",
    "import numpy as np\n",
    "import albumentations as A\n",
    "\n",
    "from utils import RandomPaste\n",
    "from data.dataset import SyntheticDataset\n",
    "\n",
    "from pathlib import Path\n"
   ]
  },
  {
   "cell_type": "code",
   "execution_count": 2,
   "metadata": {},
   "outputs": [],
   "source": [
    "transform = A.Compose(\n",
    "    [\n",
    "        A.Resize(512, 512),\n",
    "        A.Flip(),\n",
    "        A.ColorJitter(),\n",
    "        RandomPaste(5, \"/home/lilian/data_disk/lfainsin/spheres/\"),\n",
    "        A.GaussianBlur(),\n",
    "        A.ISONoise(),\n",
    "    ],\n",
    ")\n",
    "\n",
    "dataset = SyntheticDataset(image_dir=\"/home/lilian/data_disk/lfainsin/train/\", transform=transform)\n"
   ]
  },
  {
   "cell_type": "code",
   "execution_count": 6,
   "metadata": {},
   "outputs": [
    {
     "name": "stdout",
     "output_type": "stream",
     "text": [
      "10001\r"
     ]
    }
   ],
   "source": [
    "for i, (image, mask) in enumerate(dataset):\n",
    "    path = f\"/home/lilian/data_disk/lfainsin/prerender/{i}/\"\n",
    "    Path(path).mkdir(parents=True, exist_ok=True)\n",
    "    Image.fromarray(image).save(f\"{path}/image.jpg\")\n",
    "    Image.fromarray(mask*255).save(f\"{path}/MASK.PNG\")\n",
    "    \n",
    "    print(i, end=\"\\r\")\n",
    "\n",
    "    if i > 10000:\n",
    "        break"
   ]
  }
 ],
 "metadata": {
  "kernelspec": {
   "display_name": "Python 3.8.0 ('.venv': poetry)",
   "language": "python",
   "name": "python3"
  },
  "language_info": {
   "codemirror_mode": {
    "name": "ipython",
    "version": 3
   },
   "file_extension": ".py",
   "mimetype": "text/x-python",
   "name": "python",
   "nbconvert_exporter": "python",
   "pygments_lexer": "ipython3",
   "version": "3.8.0"
  },
  "orig_nbformat": 4,
  "vscode": {
   "interpreter": {
    "hash": "dc80d2c03865715c8671359a6bf138f6c8ae4e26ae025f2543e0980b8db0ed7e"
   }
  }
 },
 "nbformat": 4,
 "nbformat_minor": 2
}
