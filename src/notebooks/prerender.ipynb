{
 "cells": [
  {
   "cell_type": "code",
   "execution_count": 5,
   "metadata": {},
   "outputs": [],
   "source": [
    "from PIL import Image\n",
    "\n",
    "import albumentations as A\n",
    "import torchvision.transforms as T\n",
    "\n",
    "import numpy as np\n",
    "from utils import RandomPaste\n",
    "from data.dataset import SyntheticDataset\n",
    "\n",
    "from pathlib import Path\n",
    "\n",
    "from joblib import Parallel, delayed\n"
   ]
  },
  {
   "cell_type": "code",
   "execution_count": 6,
   "metadata": {},
   "outputs": [],
   "source": [
    "transform = A.Compose(\n",
    "    [\n",
    "        A.Resize(512, 512),\n",
    "        A.Flip(),\n",
    "        A.ColorJitter(),\n",
    "        RandomPaste(5, \"/media/disk1/lfainsin/SPHERES/\"),\n",
    "        A.GaussianBlur(),\n",
    "        A.ISONoise(),\n",
    "    ],\n",
    ")\n",
    "\n",
    "dataset = SyntheticDataset(image_dir=\"/media/disk1/lfainsin/BACKGROUND/\", transform=transform)\n",
    "transform = T.ToPILImage()"
   ]
  },
  {
   "cell_type": "code",
   "execution_count": 12,
   "metadata": {},
   "outputs": [],
   "source": [
    "def render(i, image, mask):\n",
    "\n",
    "    image = transform(image)\n",
    "    mask = transform(mask)\n",
    "\n",
    "    path = f\"/media/disk1/lfainsin/TRAIN_prerender/{i}/\"\n",
    "    Path(path).mkdir(parents=True, exist_ok=True)\n",
    "    \n",
    "    image.save(f\"{path}/image.jpg\")\n",
    "    mask.save(f\"{path}/MASK.PNG\")\n"
   ]
  },
  {
   "cell_type": "code",
   "execution_count": 13,
   "metadata": {},
   "outputs": [],
   "source": [
    "Parallel(n_jobs=-1)(delayed(render)(i, image, mask) for i, (image, mask) in enumerate(dataset))\n"
   ]
  }
 ],
 "metadata": {
  "kernelspec": {
   "display_name": "Python 3.8.0 ('.venv': poetry)",
   "language": "python",
   "name": "python3"
  },
  "language_info": {
   "codemirror_mode": {
    "name": "ipython",
    "version": 3
   },
   "file_extension": ".py",
   "mimetype": "text/x-python",
   "name": "python",
   "nbconvert_exporter": "python",
   "pygments_lexer": "ipython3",
   "version": "3.8.0"
  },
  "orig_nbformat": 4,
  "vscode": {
   "interpreter": {
    "hash": "dc80d2c03865715c8671359a6bf138f6c8ae4e26ae025f2543e0980b8db0ed7e"
   }
  }
 },
 "nbformat": 4,
 "nbformat_minor": 2
}
